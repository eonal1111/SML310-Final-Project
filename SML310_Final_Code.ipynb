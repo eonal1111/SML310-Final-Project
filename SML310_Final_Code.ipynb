{
  "nbformat": 4,
  "nbformat_minor": 0,
  "metadata": {
    "colab": {
      "name": "SML310 Final Code.ipynb",
      "provenance": [],
      "collapsed_sections": [
        "UOwPgiHVVJgE"
      ]
    },
    "kernelspec": {
      "name": "python3",
      "display_name": "Python 3"
    },
    "language_info": {
      "name": "python"
    }
  },
  "cells": [
    {
      "cell_type": "code",
      "execution_count": 1,
      "metadata": {
        "id": "tKgOU46fFk0N"
      },
      "outputs": [],
      "source": [
        "from keras.preprocessing.image import load_img\n",
        "from keras.preprocessing.image import img_to_array\n",
        "from sklearn.metrics import roc_curve\n",
        "from sklearn.metrics import roc_auc_score\n",
        "import numpy as np\n",
        "import os\n",
        "import pandas as pd\n",
        "from PIL import Image\n",
        "import xml.etree.ElementTree as ET\n",
        "import time\n",
        "import matplotlib.pyplot as plt\n",
        "import cv2\n",
        "import keras\n",
        "from sklearn.model_selection import train_test_split\n",
        "from keras.preprocessing.image import ImageDataGenerator\n",
        "from sklearn.metrics import confusion_matrix\n",
        "from keras.regularizers import l2\n",
        "from keras.applications.vgg19 import VGG19\n",
        "from keras.applications import vgg19\n",
        "import tensorflow as tf\n",
        "import seaborn\n",
        "from sklearn.ensemble import RandomForestClassifier"
      ]
    },
    {
      "cell_type": "markdown",
      "source": [
        "# Image Preprocessing"
      ],
      "metadata": {
        "id": "-9-0wlLF0Qsk"
      }
    },
    {
      "cell_type": "code",
      "source": [
        "### Cell initializes and saves dictionary that stores information about faces ###\n",
        "### in the dataset by reading from XML files in directory ./annotations.      ### \n",
        "### Can skip this if a dictionary is already saved.                           ###\n",
        "\n",
        "# data dictionary stores information about each face contained in the dataset (potentially multiple per image)\n",
        "# face classes are 'correct_mask', 'incorrect_mask', and 'no_mask'\n",
        "data = {'image':[], 'xmin':[],'xmax':[],'ymin':[],'ymax':[],'class':[]}\n",
        "translate_class = {'with_mask':'correct_mask', 'without_mask':'incorrect_mask', 'mask_weared_incorrect':'incorrect_mask'} # binary labels\n",
        "\n",
        "start_time = time.time()\n",
        "for root, dirs, files in os.walk('drive/MyDrive/SML310 Final Project/annotations', topdown=False):\n",
        "  print('Reading from ', len(files), 'XML annotation files...')\n",
        "  num_files = len(files)\n",
        "  for filename in files:\n",
        "    tree = ET.parse('drive/MyDrive/SML310 Final Project/annotations/'+filename)\n",
        "\n",
        "    for elem in tree.iter():\n",
        "      if 'filename' == elem.tag:\n",
        "        image_name = elem.text[:-4]\n",
        "          \n",
        "      if 'object' in elem.tag:\n",
        "        for subelem in list(elem):\n",
        "          if 'name' == subelem.tag:\n",
        "            if subelem.text in translate_class:\n",
        "              data['class'].append(translate_class[subelem.text])\n",
        "              data['image'].append(image_name)\n",
        "\n",
        "          if 'bndbox' in subelem.tag:\n",
        "            for ax in list(subelem):\n",
        "              if 'xmin' == ax.tag:\n",
        "                data['xmin'].append(int(round(float(ax.text))))\n",
        "              if 'ymin' == ax.tag:\n",
        "                data['ymin'].append(int(round(float(ax.text))))                                \n",
        "              if 'xmax' == ax.tag:\n",
        "                data['xmax'].append(int(round(float(ax.text))))                                \n",
        "              if 'ymax' == ax.tag:\n",
        "                data['ymax'].append(int(round(float(ax.text))))   \n",
        "\n",
        "print('Data dictionary built in ', str(round(time.time()-start_time)), ' seconds.' )\n",
        "print('Saving dictionary...')\n",
        "np.save('data.npy', data)\n",
        "df = pd.DataFrame(data)"
      ],
      "metadata": {
        "colab": {
          "base_uri": "https://localhost:8080/"
        },
        "id": "waXs2p7sFuzn",
        "outputId": "36f04aef-e715-4337-a8fb-8b920a33e4b1"
      },
      "execution_count": 2,
      "outputs": [
        {
          "output_type": "stream",
          "name": "stdout",
          "text": [
            "Reading from  853 XML annotation files...\n",
            "Data dictionary built in  20  seconds.\n",
            "Saving dictionary...\n"
          ]
        }
      ]
    },
    {
      "cell_type": "code",
      "source": [
        "### Remove images with more than 10 (and less than 6000) annotated faces ###\n",
        "max_objects = 6000\n",
        "min_objects = 10\n",
        "count = 0\n",
        "remove_files = []\n",
        "for filename in df['image'].unique():\n",
        "  objects = df[df['image']==filename]\n",
        "  if len(objects) < max_objects and len(objects) > min_objects:\n",
        "    count += 1  \n",
        "    remove_files.append(filename)\n",
        "print('Removed', count, 'images containing more than',min_objects,'faces.')\n",
        "\n",
        "# Edit dataframe to remove these images\n",
        "print('Previous number of faces:', len(df))\n",
        "df = df[df.image.isin(remove_files) == False]\n",
        "print('Remaining number of faces:', len(df))\n"
      ],
      "metadata": {
        "colab": {
          "base_uri": "https://localhost:8080/"
        },
        "id": "o4J3jbEbF1Pp",
        "outputId": "8762f0e7-c5ef-49b4-d678-6179d099502d"
      },
      "execution_count": 3,
      "outputs": [
        {
          "output_type": "stream",
          "name": "stdout",
          "text": [
            "Removed 90 images containing more than 10 faces.\n",
            "Previous number of faces: 4072\n",
            "Remaining number of faces: 2340\n"
          ]
        }
      ]
    },
    {
      "cell_type": "markdown",
      "source": [
        "# Exploratory Data Analysis (with binary classes)"
      ],
      "metadata": {
        "id": "BNCBpl3MjoXU"
      }
    },
    {
      "cell_type": "code",
      "source": [
        "### Target class distribution ###\n",
        "\n",
        "arr, counts = np.unique(df['class'], return_counts=True)\n",
        "print('Total number of images:', len(df['image'].unique()))\n",
        "print('Total number of faces:', len(df))\n",
        "print('Class distribution:')\n",
        "for i, cl in enumerate(arr):\n",
        "  print('#'+cl+' = ', counts[i])\n",
        "plt.figure()\n",
        "plt.bar(arr, counts)\n",
        "plt.xlabel('Class')\n",
        "plt.ylabel('Instances')\n",
        "plt.title('Class Distribution')\n",
        "plt.figure()\n",
        "plt.pie(counts, labels=arr, autopct='%1.2f%%')\n",
        "plt.title('Class Distribution')"
      ],
      "metadata": {
        "colab": {
          "base_uri": "https://localhost:8080/",
          "height": 649
        },
        "id": "UjwcptGUjuNN",
        "outputId": "9e1d4d39-1d55-4cba-b0d6-36ae497b7d7b"
      },
      "execution_count": 24,
      "outputs": [
        {
          "output_type": "stream",
          "name": "stdout",
          "text": [
            "Total number of images: 763\n",
            "Total number of faces: 2340\n",
            "Class distribution:\n",
            "#correct_mask =  1867\n",
            "#incorrect_mask =  473\n"
          ]
        },
        {
          "output_type": "execute_result",
          "data": {
            "text/plain": [
              "Text(0.5, 1.0, 'Class Distribution')"
            ]
          },
          "metadata": {},
          "execution_count": 24
        },
        {
          "output_type": "display_data",
          "data": {
            "image/png": "[encoded data removed]",
            "text/plain": [
              "<Figure size 432x288 with 1 Axes>"
            ]
          },
          "metadata": {
            "needs_background": "light"
          }
        },
        {
          "output_type": "display_data",
          "data": {
            "image/png": "[encoded data removed]",
            "text/plain": [
              "<Figure size 432x288 with 1 Axes>"
            ]
          },
          "metadata": {}
        }
      ]
    },
    {
      "cell_type": "code",
      "source": [
        "### Plot number of faces per image histogram ###\n",
        "imgs, counts = np.unique(df['image'], return_counts = True)\n",
        "arr, counts = np.unique(counts, return_counts = True)\n",
        "plt.bar(arr, counts)\n",
        "plt.xlabel('Number of Faces per Image')\n",
        "plt.ylabel('Frequency')"
      ],
      "metadata": {
        "colab": {
          "base_uri": "https://localhost:8080/",
          "height": 297
        },
        "id": "jPA0cDptlxHv",
        "outputId": "e4a30466-971c-4cd9-b35e-cb9db53493e7"
      },
      "execution_count": 30,
      "outputs": [
        {
          "output_type": "execute_result",
          "data": {
            "text/plain": [
              "Text(0, 0.5, 'Frequency')"
            ]
          },
          "metadata": {},
          "execution_count": 30
        },
        {
          "output_type": "display_data",
          "data": {
            "image/png": "[encoded data removed]",
            "text/plain": [
              "<Figure size 432x288 with 1 Axes>"
            ]
          },
          "metadata": {
            "needs_background": "light"
          }
        }
      ]
    },
    {
      "cell_type": "markdown",
      "source": [
        "# Train imbalanced Baseline CNN model"
      ],
      "metadata": {
        "id": "riVr6H4OPo4H"
      }
    },
    {
      "cell_type": "code",
      "source": [
        "### Crop ALL faces ###\n",
        "start_time = time.time()\n",
        "# Crop faces and save into a .npy file\n",
        "face_images = []\n",
        "y = []\n",
        "for image_name in np.unique(df['image']):\n",
        "  faces = df[df['image'] == image_name]\n",
        "  full_image = img_to_array(load_img('drive/MyDrive/SML310 Final Project/images/'+image_name+'.png'))\n",
        "  \n",
        "  for idx in range(len(faces)): \n",
        "    face = faces.iloc[idx,:] # select face\n",
        "    \n",
        "\n",
        "    # crop face\n",
        "    face_image = full_image[face['ymin']:face['ymax'], face['xmin']:face['xmax']]\n",
        "    face_images.append(face_image)\n",
        "    # append class label\n",
        "    y.append(face['class'])\n",
        "\n",
        "face_images = np.array(face_images)\n",
        "y = np.array(y)\n",
        "\n",
        "print('Cropped',len(face_images),'face images in ',time.time()-start_time,'seconds.')\n",
        "np.save('face_images.npy', face_images)"
      ],
      "metadata": {
        "colab": {
          "base_uri": "https://localhost:8080/"
        },
        "id": "35ahsgHdPswc",
        "outputId": "9a6c7fc0-0e55-43ae-b1bd-9b058b7fd0c2"
      },
      "execution_count": null,
      "outputs": [
        {
          "output_type": "stream",
          "name": "stderr",
          "text": [
            "/usr/local/lib/python3.7/dist-packages/ipykernel_launcher.py:20: VisibleDeprecationWarning: Creating an ndarray from ragged nested sequences (which is a list-or-tuple of lists-or-tuples-or ndarrays with different lengths or shapes) is deprecated. If you meant to do this, you must specify 'dtype=object' when creating the ndarray\n"
          ]
        },
        {
          "output_type": "stream",
          "name": "stdout",
          "text": [
            "Cropped 2340 face images in  14.803312540054321 seconds.\n"
          ]
        }
      ]
    },
    {
      "cell_type": "code",
      "source": [
        "### Resize each face to (40,40)\n",
        "x = np.zeros((len(face_images), 40, 40, 3))\n",
        "for i, face in enumerate(face_images):\n",
        "  resized_face = tf.image.resize(face, (40,40))\n",
        "  x[i, :, :, :] = resized_face"
      ],
      "metadata": {
        "id": "2ghJLauBPw71"
      },
      "execution_count": null,
      "outputs": []
    },
    {
      "cell_type": "code",
      "source": [
        "### Ready training and testing data for keras model & Preprocess input\n",
        "translate_labels = {'correct_mask':0, 'incorrect_mask':1}\n",
        "int_y = []\n",
        "for y_val in y:\n",
        "  int_y.append(translate_labels[y_val])\n",
        "\n",
        "xTrain, xTest, yTrain, yTest = train_test_split(x, int_y, test_size=0.2, random_state=42, stratify=int_y) # stratify by y to keep classes somewhat balanced\n",
        "xTrain, xVal, yTrain, yVal = train_test_split(xTrain, yTrain, test_size=0.2, random_state=42, stratify=yTrain)\n",
        " # Horizontal flip and random rotation for image augmentation, using data normalization too\n",
        "data_generator = ImageDataGenerator(featurewise_center=True, featurewise_std_normalization=True, horizontal_flip=True, rotation_range=30)\n",
        "data_generator.fit(xTrain)\n",
        "train_generator = data_generator.flow(xTrain, yTrain, batch_size=50)\n",
        "test_generator = data_generator.flow(xTest, yTest, batch_size=1, shuffle=False)\n",
        "val_generator = data_generator.flow(xVal, yVal, batch_size=50)"
      ],
      "metadata": {
        "id": "TyeJXLc8Pyym"
      },
      "execution_count": null,
      "outputs": []
    },
    {
      "cell_type": "code",
      "source": [
        "### Define a keras CNN\n",
        "model_CNN = keras.models.Sequential([\n",
        "    keras.layers.Conv2D(filters = 16, kernel_size = (3,3),kernel_regularizer=l2(0.01), activation = 'relu', \n",
        "                        input_shape = (40,40,3)),\n",
        "    keras.layers.Conv2D(filters = 16, kernel_size = (3,3),kernel_regularizer=l2(0.01), activation = 'relu'),\n",
        "    keras.layers.MaxPool2D(pool_size = (2,2)),\n",
        "    keras.layers.Conv2D(filters = 32, kernel_size = (3,3),kernel_regularizer=l2(0.01), activation = 'relu'),\n",
        "    keras.layers.Conv2D(filters = 64, kernel_size = (3,3),kernel_regularizer=l2(0.01), activation = 'relu'),\n",
        "    keras.layers.MaxPool2D(pool_size = (2,2)),\n",
        "    keras.layers.Flatten(),\n",
        "    keras.layers.Dense(units = 64,kernel_regularizer=l2(0.01), activation='relu'),\n",
        "    keras.layers.Dense(units = 1,kernel_regularizer=l2(0.01), activation = 'sigmoid')\n",
        "])\n",
        "model_CNN.compile(optimizer='adam', loss='binary_crossentropy', metrics=['accuracy'])\n",
        "# Train model\n",
        "history_CNN = model_CNN.fit(train_generator, steps_per_epoch=len(train_generator), epochs=10, validation_data=val_generator)"
      ],
      "metadata": {
        "colab": {
          "base_uri": "https://localhost:8080/"
        },
        "id": "e-c74dzhQRFA",
        "outputId": "1bb23e6d-c5ed-4f3f-92fc-cbb6345f0382"
      },
      "execution_count": null,
      "outputs": [
        {
          "output_type": "stream",
          "name": "stdout",
          "text": [
            "Epoch 1/10\n",
            "30/30 [==============================] - 6s 182ms/step - loss: 1.6589 - accuracy: 0.8250 - val_loss: 1.0613 - val_accuracy: 0.8853\n",
            "Epoch 2/10\n",
            "30/30 [==============================] - 5s 178ms/step - loss: 0.7681 - accuracy: 0.9105 - val_loss: 0.6643 - val_accuracy: 0.9040\n",
            "Epoch 3/10\n",
            "30/30 [==============================] - 5s 178ms/step - loss: 0.5349 - accuracy: 0.9272 - val_loss: 0.5400 - val_accuracy: 0.9147\n",
            "Epoch 4/10\n",
            "30/30 [==============================] - 5s 175ms/step - loss: 0.4426 - accuracy: 0.9285 - val_loss: 0.4546 - val_accuracy: 0.9067\n",
            "Epoch 5/10\n",
            "30/30 [==============================] - 5s 176ms/step - loss: 0.3784 - accuracy: 0.9359 - val_loss: 0.4233 - val_accuracy: 0.9147\n",
            "Epoch 6/10\n",
            "30/30 [==============================] - 5s 181ms/step - loss: 0.3629 - accuracy: 0.9279 - val_loss: 0.4040 - val_accuracy: 0.9173\n",
            "Epoch 7/10\n",
            "30/30 [==============================] - 5s 178ms/step - loss: 0.3341 - accuracy: 0.9385 - val_loss: 0.3563 - val_accuracy: 0.9200\n",
            "Epoch 8/10\n",
            "30/30 [==============================] - 5s 179ms/step - loss: 0.3365 - accuracy: 0.9299 - val_loss: 0.3666 - val_accuracy: 0.9227\n",
            "Epoch 9/10\n",
            "30/30 [==============================] - 5s 175ms/step - loss: 0.3084 - accuracy: 0.9399 - val_loss: 0.3542 - val_accuracy: 0.9253\n",
            "Epoch 10/10\n",
            "30/30 [==============================] - 5s 175ms/step - loss: 0.2946 - accuracy: 0.9419 - val_loss: 0.3434 - val_accuracy: 0.9253\n"
          ]
        }
      ]
    },
    {
      "cell_type": "code",
      "source": [
        "### Create ROC curve\n",
        "yPred = model_CNN.predict(test_generator, len(xTest))\n",
        "\n",
        "fpr, tpr, thresholds = roc_curve(yTest, yPred)\n",
        "best_idx = np.argmax(np.sqrt(tpr * (1-fpr)))\n",
        "plt.plot(fpr, tpr)\n",
        "plt.plot(fpr[best_idx], tpr[best_idx], marker='o', color='red')\n",
        "plt.title('ROC curve')\n",
        "plt.xlabel('False Positive Rate')\n",
        "plt.ylabel('True Positive Rate')\n",
        "\n",
        "print('AUC score = ', roc_auc_score(yTest, yPred))\n",
        "optimal_threshold = thresholds[best_idx]\n",
        "print('Threshold maximizing tpr * tnr = ', optimal_threshold)\n",
        "print('Corresponding (FPR,TPR) = ',(fpr[best_idx], tpr[best_idx]))"
      ],
      "metadata": {
        "colab": {
          "base_uri": "https://localhost:8080/",
          "height": 348
        },
        "id": "6r5NaGVtV1BO",
        "outputId": "00720492-2ae4-439d-c25f-ac41c33e35d5"
      },
      "execution_count": null,
      "outputs": [
        {
          "output_type": "stream",
          "name": "stdout",
          "text": [
            "AUC score =  0.975052913785805\n",
            "Threshold maximizing tpr * tnr =  0.17378789\n",
            "Corresponding (FPR,TPR) =  (0.06702412868632708, 0.9473684210526315)\n"
          ]
        },
        {
          "output_type": "display_data",
          "data": {
            "image/png": "[encoded data removed]",
            "text/plain": [
              "<Figure size 432x288 with 1 Axes>"
            ]
          },
          "metadata": {
            "needs_background": "light"
          }
        }
      ]
    },
    {
      "cell_type": "code",
      "source": [
        "# Test model and print confusion matrix under optimal threshold\n",
        "threshold = optimal_threshold\n",
        "yTestPred = (model_CNN.predict(xTest) >= threshold).astype('int')\n",
        "test_matrix = confusion_matrix(yTest, yTestPred)\n",
        "\n",
        "seaborn.heatmap(test_matrix/np.sum(test_matrix), annot=True, \n",
        "            fmt='.2%')"
      ],
      "metadata": {
        "colab": {
          "base_uri": "https://localhost:8080/",
          "height": 283
        },
        "id": "ZVJK44NdQ9TX",
        "outputId": "036c47f1-e5da-4ff5-b7f5-01e379d316fc"
      },
      "execution_count": null,
      "outputs": [
        {
          "output_type": "execute_result",
          "data": {
            "text/plain": [
              "<matplotlib.axes._subplots.AxesSubplot at 0x7f51d60a1850>"
            ]
          },
          "metadata": {},
          "execution_count": 204
        },
        {
          "output_type": "display_data",
          "data": {
            "image/png": "[encoded data removed]",
            "text/plain": [
              "<Figure size 432x288 with 2 Axes>"
            ]
          },
          "metadata": {
            "needs_background": "light"
          }
        }
      ]
    },
    {
      "cell_type": "code",
      "source": [
        "tn, fp, fn, tp = test_matrix.ravel()\n",
        "print('Accuracy = ', (tp+tn)/(tp+tn+fp+fn))\n",
        "print('Precision = ', (tp)/(tp+fp))\n",
        "print('Recall = ', (tp)/(tp+fn))"
      ],
      "metadata": {
        "colab": {
          "base_uri": "https://localhost:8080/"
        },
        "id": "I2MR7SSkREjs",
        "outputId": "005c1b31-ff9a-48f6-b01e-29854e138f39"
      },
      "execution_count": null,
      "outputs": [
        {
          "output_type": "stream",
          "name": "stdout",
          "text": [
            "Accuracy =  0.938034188034188\n",
            "Precision =  0.84375\n",
            "Recall =  0.8526315789473684\n"
          ]
        }
      ]
    },
    {
      "cell_type": "code",
      "source": [
        "# Test model and print confusion matrix under 0.5 threshold\n",
        "threshold = 0.5\n",
        "yTestPred = (model_CNN.predict(xTest) >= threshold).astype('int')\n",
        "test_matrix = confusion_matrix(yTest, yTestPred)\n",
        "\n",
        "seaborn.heatmap(test_matrix/np.sum(test_matrix), annot=True, \n",
        "            fmt='.2%')"
      ],
      "metadata": {
        "colab": {
          "base_uri": "https://localhost:8080/",
          "height": 283
        },
        "id": "8TCjBQKgRasY",
        "outputId": "430640ec-bf21-4a56-c0ff-ce39b57c1d43"
      },
      "execution_count": null,
      "outputs": [
        {
          "output_type": "execute_result",
          "data": {
            "text/plain": [
              "<matplotlib.axes._subplots.AxesSubplot at 0x7f51d7b03ed0>"
            ]
          },
          "metadata": {},
          "execution_count": 206
        },
        {
          "output_type": "display_data",
          "data": {
            "image/png": "[encoded data removed]",
            "text/plain": [
              "<Figure size 432x288 with 2 Axes>"
            ]
          },
          "metadata": {
            "needs_background": "light"
          }
        }
      ]
    },
    {
      "cell_type": "code",
      "source": [
        "tn, fp, fn, tp = test_matrix.ravel()\n",
        "print('Accuracy = ', (tp+tn)/(tp+tn+fp+fn))\n",
        "print('Precision = ', (tp)/(tp+fp))\n",
        "print('Recall = ', (tp)/(tp+fn))"
      ],
      "metadata": {
        "colab": {
          "base_uri": "https://localhost:8080/"
        },
        "id": "T99KMr4aRp1r",
        "outputId": "25fca506-a725-48c9-ba21-9a90c9f09d0b"
      },
      "execution_count": null,
      "outputs": [
        {
          "output_type": "stream",
          "name": "stdout",
          "text": [
            "Accuracy =  0.9401709401709402\n",
            "Precision =  0.8602150537634409\n",
            "Recall =  0.8421052631578947\n"
          ]
        }
      ]
    },
    {
      "cell_type": "code",
      "source": [
        "### Plot training and validation accuracy and loss\n",
        "plt.plot(history_CNN.history['accuracy'], label='train')\n",
        "plt.plot(history_CNN.history['val_accuracy'], label ='validation')\n",
        "plt.title('Training and Validation Accuracy')\n",
        "plt.xlabel('Training epochs')\n",
        "plt.ylabel('Accuracy')\n",
        "plt.legend(loc='lower right')\n",
        "plt.figure()\n",
        "plt.plot(history_CNN.history['loss'], label ='train')\n",
        "plt.plot(history_CNN.history['val_loss'], label='validation')\n",
        "plt.legend(loc='upper right')\n",
        "plt.title('Training and Validation Loss')\n",
        "plt.xlabel('Training epochs')\n",
        "plt.ylabel('Loss')"
      ],
      "metadata": {
        "colab": {
          "base_uri": "https://localhost:8080/",
          "height": 591
        },
        "id": "H2Fmg898RzmM",
        "outputId": "a0c42b9d-9a85-4ac2-a115-42242498f51b"
      },
      "execution_count": null,
      "outputs": [
        {
          "output_type": "execute_result",
          "data": {
            "text/plain": [
              "Text(0, 0.5, 'Loss')"
            ]
          },
          "metadata": {},
          "execution_count": 214
        },
        {
          "output_type": "display_data",
          "data": {
            "image/png": "[encoded data removed]",
            "text/plain": [
              "<Figure size 432x288 with 1 Axes>"
            ]
          },
          "metadata": {
            "needs_background": "light"
          }
        },
        {
          "output_type": "display_data",
          "data": {
            "image/png": "[encoded data removed]",
            "text/plain": [
              "<Figure size 432x288 with 1 Axes>"
            ]
          },
          "metadata": {
            "needs_background": "light"
          }
        }
      ]
    },
    {
      "cell_type": "markdown",
      "source": [
        "# Train imbalanced VGG19 model"
      ],
      "metadata": {
        "id": "YHjWYMNt0ZS3"
      }
    },
    {
      "cell_type": "code",
      "source": [
        "### Crop ALL faces ###\n",
        "start_time = time.time()\n",
        "# Crop faces and save into a .npy file\n",
        "face_images = []\n",
        "y = []\n",
        "for image_name in np.unique(df['image']):\n",
        "  faces = df[df['image'] == image_name]\n",
        "  full_image = img_to_array(load_img('drive/MyDrive/SML310 Final Project/images/'+image_name+'.png'))\n",
        "  \n",
        "  for idx in range(len(faces)): \n",
        "    face = faces.iloc[idx,:] # select face\n",
        "\n",
        "    # crop face\n",
        "    face_image = full_image[face['ymin']:face['ymax'], face['xmin']:face['xmax']]\n",
        "    face_images.append(face_image)\n",
        "    # append class label\n",
        "    y.append(face['class'])\n",
        "\n",
        "face_images = np.array(face_images)\n",
        "y = np.array(y)\n",
        "\n",
        "print('Cropped',len(face_images),'face images in ',time.time()-start_time,'seconds.')\n",
        "np.save('face_images.npy', face_images)"
      ],
      "metadata": {
        "colab": {
          "base_uri": "https://localhost:8080/"
        },
        "id": "_0kGqI6nF4Ng",
        "outputId": "ab9f24d1-16ce-4862-d634-9ac865b8cac0"
      },
      "execution_count": null,
      "outputs": [
        {
          "output_type": "stream",
          "name": "stderr",
          "text": [
            "/usr/local/lib/python3.7/dist-packages/ipykernel_launcher.py:19: VisibleDeprecationWarning: Creating an ndarray from ragged nested sequences (which is a list-or-tuple of lists-or-tuples-or ndarrays with different lengths or shapes) is deprecated. If you meant to do this, you must specify 'dtype=object' when creating the ndarray\n"
          ]
        },
        {
          "output_type": "stream",
          "name": "stdout",
          "text": [
            "Cropped 2340 face images in  14.297337055206299 seconds.\n"
          ]
        }
      ]
    },
    {
      "cell_type": "code",
      "source": [
        "### Resize each face to (40,40)\n",
        "x = np.zeros((len(face_images), 40, 40, 3))\n",
        "for i, face in enumerate(face_images):\n",
        "  resized_face = tf.image.resize(face, (40,40))\n",
        "  x[i, :, :, :] = resized_face"
      ],
      "metadata": {
        "id": "21YvQ6QqIXUf"
      },
      "execution_count": null,
      "outputs": []
    },
    {
      "cell_type": "code",
      "source": [
        "### Preprocess input\n",
        "input = vgg19.preprocess_input(x.copy()) # use copy to not alter original x"
      ],
      "metadata": {
        "id": "VkyADe3uKZC4"
      },
      "execution_count": null,
      "outputs": []
    },
    {
      "cell_type": "code",
      "source": [
        "### Ready training and testing data for keras model\n",
        "translate_labels = {'correct_mask':0, 'incorrect_mask':1}\n",
        "int_y = []\n",
        "for y_val in y:\n",
        "  int_y.append(translate_labels[y_val])\n",
        "\n",
        "xTrain, xTest, yTrain, yTest = train_test_split(input, int_y, test_size=0.2, random_state=42, stratify=int_y) # stratify by y to keep classes somewhat balanced\n",
        "xTrain, xVal, yTrain, yVal = train_test_split(xTrain, yTrain, test_size=0.2, random_state=42, stratify=yTrain)\n",
        "data_generator = ImageDataGenerator(horizontal_flip=True, rotation_range=30) # Horizontal flip and random rotation for image augmentation\n",
        "data_generator.fit(xTrain)\n",
        "train_generator = data_generator.flow(xTrain, yTrain, batch_size=50)\n",
        "test_generator = data_generator.flow(xTest, yTest, batch_size=1, shuffle=False)\n",
        "val_generator = data_generator.flow(xVal, yVal, batch_size=10)"
      ],
      "metadata": {
        "id": "bg9Li97jLdhf"
      },
      "execution_count": null,
      "outputs": []
    },
    {
      "cell_type": "code",
      "source": [
        "### Define VGG19 transfer learning network\n",
        "vgg19_network = VGG19(weights='imagenet',include_top=False,input_shape=(40,40,3))\n",
        "\n",
        "for l in vgg19_network.layers:\n",
        "    l.trainable = False\n",
        "\n",
        "model_vgg19 = keras.models.Sequential([               \n",
        "    vgg19_network,\n",
        "    keras.layers.Flatten(),\n",
        "    keras.layers.Dense(units = 100,kernel_regularizer=l2(0.02), activation = 'relu'),\n",
        "    keras.layers.Dropout(.2),\n",
        "    keras.layers.Dense(units = 100,kernel_regularizer=l2(0.02), activation = 'relu'),\n",
        "    keras.layers.Dropout(.2),\n",
        "    keras.layers.Dense(units = 100,kernel_regularizer=l2(0.02), activation = 'relu'),\n",
        "    keras.layers.Dropout(.2),\n",
        "    keras.layers.Dense(units = 1,kernel_regularizer=l2(0.02), activation = 'sigmoid')\n",
        "])\n",
        "\n",
        "model_vgg19.compile(optimizer=\"adam\",loss=\"binary_crossentropy\",metrics =\"accuracy\")\n",
        "# Train model\n",
        "history_VGG19 = model_vgg19.fit(train_generator, steps_per_epoch=len(train_generator), epochs=10, validation_data=val_generator)"
      ],
      "metadata": {
        "colab": {
          "base_uri": "https://localhost:8080/"
        },
        "id": "ZCY-gRecLtWb",
        "outputId": "2383820b-ffb8-46ec-cf88-045aeb4cb0c4"
      },
      "execution_count": null,
      "outputs": [
        {
          "output_type": "stream",
          "name": "stdout",
          "text": [
            "Epoch 1/10\n",
            "30/30 [==============================] - 38s 1s/step - loss: 7.3572 - accuracy: 0.7802 - val_loss: 6.1725 - val_accuracy: 0.8907\n",
            "Epoch 2/10\n",
            "30/30 [==============================] - 36s 1s/step - loss: 5.6744 - accuracy: 0.8758 - val_loss: 4.9962 - val_accuracy: 0.9120\n",
            "Epoch 3/10\n",
            "30/30 [==============================] - 37s 1s/step - loss: 4.6156 - accuracy: 0.9031 - val_loss: 4.1504 - val_accuracy: 0.9067\n",
            "Epoch 4/10\n",
            "30/30 [==============================] - 37s 1s/step - loss: 3.8343 - accuracy: 0.9085 - val_loss: 3.4883 - val_accuracy: 0.9307\n",
            "Epoch 5/10\n",
            "30/30 [==============================] - 36s 1s/step - loss: 3.2227 - accuracy: 0.9205 - val_loss: 2.9355 - val_accuracy: 0.9227\n",
            "Epoch 6/10\n",
            "30/30 [==============================] - 36s 1s/step - loss: 2.7107 - accuracy: 0.9299 - val_loss: 2.5159 - val_accuracy: 0.9333\n",
            "Epoch 7/10\n",
            "30/30 [==============================] - 37s 1s/step - loss: 2.3128 - accuracy: 0.9319 - val_loss: 2.1330 - val_accuracy: 0.9360\n",
            "Epoch 8/10\n",
            "30/30 [==============================] - 36s 1s/step - loss: 1.9788 - accuracy: 0.9345 - val_loss: 1.8422 - val_accuracy: 0.9200\n",
            "Epoch 9/10\n",
            "30/30 [==============================] - 38s 1s/step - loss: 1.7024 - accuracy: 0.9359 - val_loss: 1.6273 - val_accuracy: 0.9307\n",
            "Epoch 10/10\n",
            "30/30 [==============================] - 37s 1s/step - loss: 1.4737 - accuracy: 0.9419 - val_loss: 1.4042 - val_accuracy: 0.9280\n"
          ]
        }
      ]
    },
    {
      "cell_type": "code",
      "source": [
        "### Create ROC curve\n",
        "yPred = model_vgg19.predict(test_generator)\n",
        "\n",
        "fpr, tpr, thresholds = roc_curve(yTest, yPred)\n",
        "best_idx = np.argmax(np.sqrt(tpr * (1-fpr)))\n",
        "plt.plot(fpr, tpr)\n",
        "plt.plot(fpr[best_idx], tpr[best_idx], marker='o', color='red')\n",
        "plt.title('ROC curve')\n",
        "plt.xlabel('False Positive Rate')\n",
        "plt.ylabel('True Positive Rate')\n",
        "\n",
        "print('AUC score = ', roc_auc_score(yTest, yPred))\n",
        "optimal_threshold = thresholds[best_idx]\n",
        "print('Threshold maximizing tpr * tnr = ', optimal_threshold)\n",
        "print('Corresponding (FPR,TPR) = ',(fpr[best_idx], tpr[best_idx]))"
      ],
      "metadata": {
        "colab": {
          "base_uri": "https://localhost:8080/",
          "height": 348
        },
        "id": "VftGWS89Bu1L",
        "outputId": "a8499066-79a3-481e-9622-a1ed06433e50"
      },
      "execution_count": null,
      "outputs": [
        {
          "output_type": "stream",
          "name": "stdout",
          "text": [
            "AUC score =  0.9589389022153239\n",
            "Threshold maximizing tpr * tnr =  0.11672154\n",
            "Corresponding (FPR,TPR) =  (0.0938337801608579, 0.8947368421052632)\n"
          ]
        },
        {
          "output_type": "display_data",
          "data": {
            "image/png": "[encoded data removed]",
            "text/plain": [
              "<Figure size 432x288 with 1 Axes>"
            ]
          },
          "metadata": {
            "needs_background": "light"
          }
        }
      ]
    },
    {
      "cell_type": "code",
      "source": [
        "# Test model and print confusion matrix under optimal threshold\n",
        "threshold = optimal_threshold\n",
        "yTestPred = (model_vgg19.predict(xTest) >= threshold).astype('int')\n",
        "test_matrix = confusion_matrix(yTest, yTestPred)\n",
        "\n",
        "seaborn.heatmap(test_matrix/np.sum(test_matrix), annot=True, \n",
        "            fmt='.2%')"
      ],
      "metadata": {
        "colab": {
          "base_uri": "https://localhost:8080/",
          "height": 283
        },
        "id": "NWakFQR5HlIn",
        "outputId": "db78ceb9-858b-48ab-e4cc-ac0d0dd33169"
      },
      "execution_count": null,
      "outputs": [
        {
          "output_type": "execute_result",
          "data": {
            "text/plain": [
              "<matplotlib.axes._subplots.AxesSubplot at 0x7f51ccfbb910>"
            ]
          },
          "metadata": {},
          "execution_count": 246
        },
        {
          "output_type": "display_data",
          "data": {
            "image/png": "[encoded data removed]",
            "text/plain": [
              "<Figure size 432x288 with 2 Axes>"
            ]
          },
          "metadata": {
            "needs_background": "light"
          }
        }
      ]
    },
    {
      "cell_type": "code",
      "source": [
        "tn, fp, fn, tp = test_matrix.ravel()\n",
        "print('Accuracy = ', (tp+tn)/(tp+tn+fp+fn))\n",
        "print('Precision = ', (tp)/(tp+fp))\n",
        "print('Recall = ', (tp)/(tp+fn))"
      ],
      "metadata": {
        "colab": {
          "base_uri": "https://localhost:8080/"
        },
        "id": "AVLi3Bs3Jnd0",
        "outputId": "d02ef7c1-6f3a-4a68-e999-87d9d709cc66"
      },
      "execution_count": null,
      "outputs": [
        {
          "output_type": "stream",
          "name": "stdout",
          "text": [
            "Accuracy =  0.9017094017094017\n",
            "Precision =  0.7024793388429752\n",
            "Recall =  0.8947368421052632\n"
          ]
        }
      ]
    },
    {
      "cell_type": "code",
      "source": [
        "# Test model and print confusion matrix under 0.5 threshold\n",
        "threshold = 0.5\n",
        "yTestPred = (model_vgg19.predict(xTest) >= threshold).astype('int')\n",
        "test_matrix = confusion_matrix(yTest, yTestPred)\n",
        "\n",
        "seaborn.heatmap(test_matrix/np.sum(test_matrix), annot=True, \n",
        "            fmt='.2%')"
      ],
      "metadata": {
        "colab": {
          "base_uri": "https://localhost:8080/",
          "height": 283
        },
        "id": "ag3W8QAjMbLz",
        "outputId": "07dd5c76-9c3d-4466-e948-f48accbb1c69"
      },
      "execution_count": null,
      "outputs": [
        {
          "output_type": "execute_result",
          "data": {
            "text/plain": [
              "<matplotlib.axes._subplots.AxesSubplot at 0x7fab87131a10>"
            ]
          },
          "metadata": {},
          "execution_count": 182
        },
        {
          "output_type": "display_data",
          "data": {
            "image/png": "[encoded data removed]",
            "text/plain": [
              "<Figure size 432x288 with 2 Axes>"
            ]
          },
          "metadata": {
            "needs_background": "light"
          }
        }
      ]
    },
    {
      "cell_type": "code",
      "source": [
        "tn, fp, fn, tp = test_matrix.ravel()\n",
        "print('Accuracy = ', (tp+tn)/(tp+tn+fp+fn))\n",
        "print('Precision = ', (tp)/(tp+fp))\n",
        "print('Recall = ', (tp)/(tp+fn))"
      ],
      "metadata": {
        "colab": {
          "base_uri": "https://localhost:8080/"
        },
        "id": "gKN74wocMkzx",
        "outputId": "75e9f63c-6937-4b9e-aece-22406ad18540"
      },
      "execution_count": null,
      "outputs": [
        {
          "output_type": "stream",
          "name": "stdout",
          "text": [
            "Accuracy =  0.9337606837606838\n",
            "Precision =  0.8902439024390244\n",
            "Recall =  0.7684210526315789\n"
          ]
        }
      ]
    },
    {
      "cell_type": "code",
      "source": [
        "### Plot training and validation accuracy and loss\n",
        "plt.plot(history_VGG19.history['accuracy'], label='train')\n",
        "plt.plot(history_VGG19.history['val_accuracy'], label ='validation')\n",
        "plt.title('Training and Validation Accuracy')\n",
        "plt.xlabel('Training epochs')\n",
        "plt.ylabel('Accuracy')\n",
        "plt.legend(loc='lower right')\n",
        "plt.figure()\n",
        "plt.plot(history_VGG19.history['loss'], label ='train')\n",
        "plt.plot(history_VGG19.history['val_loss'], label='validation')\n",
        "plt.legend(loc='upper right')\n",
        "plt.title('Training and Validation Loss')\n",
        "plt.xlabel('Training epochs')\n",
        "plt.ylabel('Loss')"
      ],
      "metadata": {
        "colab": {
          "base_uri": "https://localhost:8080/",
          "height": 591
        },
        "id": "fNDlo3RO5IFz",
        "outputId": "0e929413-ca4d-4dbd-fd94-11953d8b779f"
      },
      "execution_count": null,
      "outputs": [
        {
          "output_type": "execute_result",
          "data": {
            "text/plain": [
              "Text(0, 0.5, 'Loss')"
            ]
          },
          "metadata": {},
          "execution_count": 248
        },
        {
          "output_type": "display_data",
          "data": {
            "image/png": "[encoded data removed]",
            "text/plain": [
              "<Figure size 432x288 with 1 Axes>"
            ]
          },
          "metadata": {
            "needs_background": "light"
          }
        },
        {
          "output_type": "display_data",
          "data": {
            "image/png": "[encoded data removed]",
            "text/plain": [
              "<Figure size 432x288 with 1 Axes>"
            ]
          },
          "metadata": {
            "needs_background": "light"
          }
        }
      ]
    },
    {
      "cell_type": "markdown",
      "source": [
        "# Train Balanced Baseline CNN Model"
      ],
      "metadata": {
        "id": "S8YZSdhb0o5n"
      }
    },
    {
      "cell_type": "code",
      "source": [
        "### Crop ONLY 25% of correct_mask faces and ALL incorrect_mask faces to balance dataset\n",
        "np.random.seed(42)\n",
        "start_time = time.time()\n",
        "# Crop faces and save into a .npy file\n",
        "face_images = []\n",
        "y = []\n",
        "for image_name in np.unique(df['image']):\n",
        "  faces = df[df['image'] == image_name]\n",
        "  full_image = cv2.imread('drive/MyDrive/SML310 Final Project/images/'+image_name+'.png')\n",
        "  for idx in range(len(faces)):\n",
        "    face = faces.iloc[idx,:] # select face\n",
        "    if face['class'] == 'correct_mask':\n",
        "      if np.random.uniform() < 0.7: # skip 70% of correct_mask faces\n",
        "        continue\n",
        "\n",
        "\n",
        "    # crop face\n",
        "    face_image = full_image[face['ymin']:face['ymax'], face['xmin']:face['xmax']]\n",
        "    face_images.append(face_image)\n",
        "    # append class label\n",
        "    y.append(face['class'])\n",
        "\n",
        "face_images = np.array(face_images)\n",
        "y = np.array(y)\n",
        "\n",
        "print('Cropped',len(face_images),'face images in ',time.time()-start_time,'seconds.')\n",
        "np.save('face_images.npy', face_images)"
      ],
      "metadata": {
        "colab": {
          "base_uri": "https://localhost:8080/"
        },
        "id": "FFfTsA6T0qrA",
        "outputId": "3ec6f67e-100e-48b1-82c3-7f5a662e2bd2"
      },
      "execution_count": 14,
      "outputs": [
        {
          "output_type": "stream",
          "name": "stdout",
          "text": [
            "Cropped 1029 face images in  14.579026937484741 seconds.\n"
          ]
        },
        {
          "output_type": "stream",
          "name": "stderr",
          "text": [
            "/usr/local/lib/python3.7/dist-packages/ipykernel_launcher.py:23: VisibleDeprecationWarning: Creating an ndarray from ragged nested sequences (which is a list-or-tuple of lists-or-tuples-or ndarrays with different lengths or shapes) is deprecated. If you meant to do this, you must specify 'dtype=object' when creating the ndarray\n"
          ]
        }
      ]
    },
    {
      "cell_type": "code",
      "source": [
        "### Resize each face to (40,40)\n",
        "x = np.zeros((len(face_images), 40, 40, 3))\n",
        "for i, face in enumerate(face_images):\n",
        "  resized_face = tf.image.resize(face, (40,40))\n",
        "  x[i, :, :, :] = resized_face"
      ],
      "metadata": {
        "id": "CwJep0D8TnW3"
      },
      "execution_count": 15,
      "outputs": []
    },
    {
      "cell_type": "code",
      "source": [
        "### Ready training and testing data for keras model & Preprocess input\n",
        "translate_labels = {'correct_mask':0, 'incorrect_mask':1}\n",
        "int_y = []\n",
        "for y_val in y:\n",
        "  int_y.append(translate_labels[y_val])\n",
        "\n",
        "xTrain, xTest, yTrain, yTest = train_test_split(x, int_y, test_size=0.2, random_state=42, stratify=int_y) # stratify by y to keep classes somewhat balanced\n",
        "\n",
        "xTrain, xVal, yTrain, yVal = train_test_split(xTrain, yTrain, test_size=0.2, random_state=42, stratify=yTrain)\n",
        " # Horizontal flip and random rotation for image augmentation, using data normalization too\n",
        "data_generator = ImageDataGenerator(featurewise_center=True, featurewise_std_normalization=True, horizontal_flip=True, rotation_range=30)\n",
        "data_generator.fit(xTrain)\n",
        "train_generator = data_generator.flow(xTrain, yTrain, batch_size=50)\n",
        "test_generator = data_generator.flow(xTest, yTest, batch_size=1, shuffle=False)\n",
        "val_generator = data_generator.flow(xVal, yVal, batch_size=50)"
      ],
      "metadata": {
        "id": "TtpDqMVGTn6d"
      },
      "execution_count": 16,
      "outputs": []
    },
    {
      "cell_type": "code",
      "source": [
        "### Define a keras CNN\n",
        "model_CNN = keras.models.Sequential([\n",
        "    keras.layers.Conv2D(filters = 16, kernel_size = (3,3),kernel_regularizer=l2(0.02), activation = 'relu', \n",
        "                        input_shape = (40,40,3)),\n",
        "    keras.layers.Conv2D(filters = 16, kernel_size = (3,3),kernel_regularizer=l2(0.02), activation = 'relu'),\n",
        "    keras.layers.MaxPool2D(pool_size = (2,2)),\n",
        "    keras.layers.Conv2D(filters = 32, kernel_size = (3,3),kernel_regularizer=l2(0.02), activation = 'relu'),\n",
        "    keras.layers.Conv2D(filters = 64, kernel_size = (3,3),kernel_regularizer=l2(0.02), activation = 'relu'),\n",
        "    keras.layers.MaxPool2D(pool_size = (2,2)),\n",
        "    keras.layers.Flatten(),\n",
        "    keras.layers.Dense(units = 64,kernel_regularizer=l2(0.01), activation='relu'),\n",
        "    keras.layers.Dense(units = 1,kernel_regularizer=l2(0.01), activation = 'sigmoid')\n",
        "])\n",
        "model_CNN.compile(optimizer='adam', loss='binary_crossentropy', metrics=['accuracy'])\n",
        "# Train model\n",
        "history_CNN = model_CNN.fit(train_generator, steps_per_epoch=len(train_generator), epochs=10, validation_data=val_generator)"
      ],
      "metadata": {
        "colab": {
          "base_uri": "https://localhost:8080/"
        },
        "id": "UYjuoAL8TzQz",
        "outputId": "b6fb06f6-d75f-481b-8b0e-767a5c340a5e"
      },
      "execution_count": 17,
      "outputs": [
        {
          "output_type": "stream",
          "name": "stdout",
          "text": [
            "Epoch 1/10\n",
            "14/14 [==============================] - 4s 197ms/step - loss: 3.0170 - accuracy: 0.7204 - val_loss: 2.3654 - val_accuracy: 0.8606\n",
            "Epoch 2/10\n",
            "14/14 [==============================] - 3s 184ms/step - loss: 2.0067 - accuracy: 0.8678 - val_loss: 1.6837 - val_accuracy: 0.8667\n",
            "Epoch 3/10\n",
            "14/14 [==============================] - 3s 185ms/step - loss: 1.5151 - accuracy: 0.8708 - val_loss: 1.3449 - val_accuracy: 0.8909\n",
            "Epoch 4/10\n",
            "14/14 [==============================] - 3s 180ms/step - loss: 1.2266 - accuracy: 0.8997 - val_loss: 1.1544 - val_accuracy: 0.8848\n",
            "Epoch 5/10\n",
            "14/14 [==============================] - 3s 180ms/step - loss: 1.0343 - accuracy: 0.9134 - val_loss: 1.0208 - val_accuracy: 0.8848\n",
            "Epoch 6/10\n",
            "14/14 [==============================] - 3s 184ms/step - loss: 0.9165 - accuracy: 0.9225 - val_loss: 0.9333 - val_accuracy: 0.8909\n",
            "Epoch 7/10\n",
            "14/14 [==============================] - 3s 181ms/step - loss: 0.8293 - accuracy: 0.9255 - val_loss: 0.8740 - val_accuracy: 0.8848\n",
            "Epoch 8/10\n",
            "14/14 [==============================] - 3s 182ms/step - loss: 0.7486 - accuracy: 0.9134 - val_loss: 0.7974 - val_accuracy: 0.8848\n",
            "Epoch 9/10\n",
            "14/14 [==============================] - 3s 196ms/step - loss: 0.7129 - accuracy: 0.9149 - val_loss: 0.7553 - val_accuracy: 0.8788\n",
            "Epoch 10/10\n",
            "14/14 [==============================] - 3s 195ms/step - loss: 0.6773 - accuracy: 0.9225 - val_loss: 0.6984 - val_accuracy: 0.8909\n"
          ]
        }
      ]
    },
    {
      "cell_type": "code",
      "source": [
        "### Create ROC curve\n",
        "yPred = model_CNN.predict(test_generator, len(xTest))\n",
        "\n",
        "fpr, tpr, thresholds = roc_curve(yTest, yPred)\n",
        "best_idx = np.argmax(np.sqrt(tpr * (1-fpr)))\n",
        "plt.plot(fpr, tpr)\n",
        "plt.plot(fpr[best_idx], tpr[best_idx], marker='o', color='red')\n",
        "plt.title('ROC curve')\n",
        "plt.xlabel('False Positive Rate')\n",
        "plt.ylabel('True Positive Rate')\n",
        "\n",
        "print('AUC score = ', roc_auc_score(yTest, yPred))\n",
        "optimal_threshold = thresholds[best_idx]\n",
        "print('Threshold maximizing tpr * tnr = ', optimal_threshold)\n",
        "print('Corresponding (FPR,TPR) = ',(fpr[best_idx], tpr[best_idx]))"
      ],
      "metadata": {
        "id": "FrvukdjdTj1j",
        "colab": {
          "base_uri": "https://localhost:8080/",
          "height": 348
        },
        "outputId": "3676a6af-81ad-42bf-bd3d-379ccbbcedfb"
      },
      "execution_count": 18,
      "outputs": [
        {
          "output_type": "stream",
          "name": "stdout",
          "text": [
            "AUC score =  0.9799905168326222\n",
            "Threshold maximizing tpr * tnr =  0.31331155\n",
            "Corresponding (FPR,TPR) =  (0.08108108108108109, 0.9789473684210527)\n"
          ]
        },
        {
          "output_type": "display_data",
          "data": {
            "image/png": "[encoded data removed]",
            "text/plain": [
              "<Figure size 432x288 with 1 Axes>"
            ]
          },
          "metadata": {
            "needs_background": "light"
          }
        }
      ]
    },
    {
      "cell_type": "code",
      "source": [
        "# Test model and print confusion matrix under optimal threshold\n",
        "threshold = optimal_threshold\n",
        "yTestPred = (model_CNN.predict(xTest) >= threshold).astype('int')\n",
        "test_matrix = confusion_matrix(yTest, yTestPred)\n",
        "\n",
        "seaborn.heatmap(test_matrix/np.sum(test_matrix), annot=True, \n",
        "            fmt='.2%')"
      ],
      "metadata": {
        "id": "UHbixUjOSYLx",
        "colab": {
          "base_uri": "https://localhost:8080/",
          "height": 285
        },
        "outputId": "1041b75c-4c74-4f62-ddff-6c8602e2be4a"
      },
      "execution_count": 19,
      "outputs": [
        {
          "output_type": "execute_result",
          "data": {
            "text/plain": [
              "<matplotlib.axes._subplots.AxesSubplot at 0x7f713816b7d0>"
            ]
          },
          "metadata": {},
          "execution_count": 19
        },
        {
          "output_type": "display_data",
          "data": {
            "image/png": "[encoded data removed]",
            "text/plain": [
              "<Figure size 432x288 with 2 Axes>"
            ]
          },
          "metadata": {
            "needs_background": "light"
          }
        }
      ]
    },
    {
      "cell_type": "code",
      "source": [
        "tn, fp, fn, tp = test_matrix.ravel()\n",
        "print('Accuracy = ', (tp+tn)/(tp+tn+fp+fn))\n",
        "print('Precision = ', (tp)/(tp+fp))\n",
        "print('Recall = ', (tp)/(tp+fn))"
      ],
      "metadata": {
        "id": "n8t0slysYcii",
        "colab": {
          "base_uri": "https://localhost:8080/"
        },
        "outputId": "6a8ace5f-42a5-4dde-da1f-2add5f98400e"
      },
      "execution_count": 20,
      "outputs": [
        {
          "output_type": "stream",
          "name": "stdout",
          "text": [
            "Accuracy =  0.9077669902912622\n",
            "Precision =  0.9222222222222223\n",
            "Recall =  0.8736842105263158\n"
          ]
        }
      ]
    },
    {
      "cell_type": "code",
      "source": [
        "# Test model and print confusion matrix under 0.5 threshold\n",
        "threshold = 0.5\n",
        "yTestPred = (model_CNN.predict(xTest) >= threshold).astype('int')\n",
        "test_matrix = confusion_matrix(yTest, yTestPred)\n",
        "\n",
        "seaborn.heatmap(test_matrix/np.sum(test_matrix), annot=True, \n",
        "            fmt='.2%')"
      ],
      "metadata": {
        "id": "DWCd9UilYhmg",
        "colab": {
          "base_uri": "https://localhost:8080/",
          "height": 283
        },
        "outputId": "0c1b2894-30af-401f-f155-41c7b19d32ab"
      },
      "execution_count": 21,
      "outputs": [
        {
          "output_type": "execute_result",
          "data": {
            "text/plain": [
              "<matplotlib.axes._subplots.AxesSubplot at 0x7f71380efc90>"
            ]
          },
          "metadata": {},
          "execution_count": 21
        },
        {
          "output_type": "display_data",
          "data": {
            "image/png": "[encoded data removed]",
            "text/plain": [
              "<Figure size 432x288 with 2 Axes>"
            ]
          },
          "metadata": {
            "needs_background": "light"
          }
        }
      ]
    },
    {
      "cell_type": "code",
      "source": [
        "tn, fp, fn, tp = test_matrix.ravel()\n",
        "print('Accuracy = ', (tp+tn)/(tp+tn+fp+fn))\n",
        "print('Precision = ', (tp)/(tp+fp))\n",
        "print('Recall = ', (tp)/(tp+fn))"
      ],
      "metadata": {
        "id": "j0Ql8vViYlJH",
        "colab": {
          "base_uri": "https://localhost:8080/"
        },
        "outputId": "a6da469f-3ffb-46ee-e500-2efacb3d784d"
      },
      "execution_count": 22,
      "outputs": [
        {
          "output_type": "stream",
          "name": "stdout",
          "text": [
            "Accuracy =  0.912621359223301\n",
            "Precision =  0.9325842696629213\n",
            "Recall =  0.8736842105263158\n"
          ]
        }
      ]
    },
    {
      "cell_type": "code",
      "source": [
        "### Plot training and validation accuracy and loss\n",
        "plt.plot(history_CNN.history['accuracy'], label='train')\n",
        "plt.plot(history_CNN.history['val_accuracy'], label ='validation')\n",
        "plt.title('Training and Validation Accuracy')\n",
        "plt.xlabel('Training epochs')\n",
        "plt.ylabel('Accuracy')\n",
        "plt.legend(loc='lower right')\n",
        "plt.figure()\n",
        "plt.plot(history_CNN.history['loss'], label ='train')\n",
        "plt.plot(history_CNN.history['val_loss'], label='validation')\n",
        "plt.legend(loc='upper right')\n",
        "plt.title('Training and Validation Loss')\n",
        "plt.xlabel('Training epochs')\n",
        "plt.ylabel('Loss')"
      ],
      "metadata": {
        "id": "qevuixDbYotd",
        "colab": {
          "base_uri": "https://localhost:8080/",
          "height": 591
        },
        "outputId": "956e2db9-ccee-4d98-d298-66027870cf16"
      },
      "execution_count": 23,
      "outputs": [
        {
          "output_type": "execute_result",
          "data": {
            "text/plain": [
              "Text(0, 0.5, 'Loss')"
            ]
          },
          "metadata": {},
          "execution_count": 23
        },
        {
          "output_type": "display_data",
          "data": {
            "image/png": "[encoded data removed]",
            "text/plain": [
              "<Figure size 432x288 with 1 Axes>"
            ]
          },
          "metadata": {
            "needs_background": "light"
          }
        },
        {
          "output_type": "display_data",
          "data": {
            "image/png": "[encoded data removed]",
            "text/plain": [
              "<Figure size 432x288 with 1 Axes>"
            ]
          },
          "metadata": {
            "needs_background": "light"
          }
        }
      ]
    },
    {
      "cell_type": "markdown",
      "source": [
        "# Train Balanced VGG19 Model"
      ],
      "metadata": {
        "id": "wGzFQpCIY8kJ"
      }
    },
    {
      "cell_type": "code",
      "source": [
        "### Crop ONLY 25% of correct_mask faces and ALL incorrect_mask faces to balance dataset\n",
        "np.random.seed(42)\n",
        "start_time = time.time()\n",
        "# Crop faces and save into a .npy file\n",
        "face_images = []\n",
        "y = []\n",
        "for image_name in np.unique(df['image']):\n",
        "  faces = df[df['image'] == image_name]\n",
        "  full_image = cv2.imread('drive/MyDrive/SML310 Final Project/images/'+image_name+'.png')\n",
        "  for idx in range(len(faces)):\n",
        "    face = faces.iloc[idx,:] # select face\n",
        "    if face['class'] == 'correct_mask':\n",
        "      if np.random.uniform() < 0.7: # skip 70% of correct_mask faces\n",
        "        continue\n",
        "    \n",
        "    # crop face\n",
        "    face_image = full_image[face['ymin']:face['ymax'], face['xmin']:face['xmax']]\n",
        "    face_images.append(face_image)\n",
        "    # append class label\n",
        "    y.append(face['class'])\n",
        "\n",
        "face_images = np.array(face_images)\n",
        "y = np.array(y)\n",
        "\n",
        "print('Cropped',len(face_images),'face images in ',time.time()-start_time,'seconds.')\n",
        "np.save('face_images.npy', face_images)"
      ],
      "metadata": {
        "colab": {
          "base_uri": "https://localhost:8080/"
        },
        "id": "xEHLNdLwY6KZ",
        "outputId": "42757462-6409-4a00-de4b-2f6a53f1761f"
      },
      "execution_count": null,
      "outputs": [
        {
          "output_type": "stream",
          "name": "stdout",
          "text": [
            "Cropped 1029 face images in  12.705406188964844 seconds.\n"
          ]
        },
        {
          "output_type": "stream",
          "name": "stderr",
          "text": [
            "/usr/local/lib/python3.7/dist-packages/ipykernel_launcher.py:22: VisibleDeprecationWarning: Creating an ndarray from ragged nested sequences (which is a list-or-tuple of lists-or-tuples-or ndarrays with different lengths or shapes) is deprecated. If you meant to do this, you must specify 'dtype=object' when creating the ndarray\n"
          ]
        }
      ]
    },
    {
      "cell_type": "code",
      "source": [
        "### Resize each face to (40,40)\n",
        "x = np.zeros((len(face_images), 40, 40, 3))\n",
        "for i, face in enumerate(face_images):\n",
        "  resized_face = tf.image.resize(face, (40,40))\n",
        "  x[i, :, :, :] = resized_face"
      ],
      "metadata": {
        "id": "qBj6GUJ5ZEf8"
      },
      "execution_count": null,
      "outputs": []
    },
    {
      "cell_type": "code",
      "source": [
        "### Preprocess input\n",
        "input = vgg19.preprocess_input(x.copy())"
      ],
      "metadata": {
        "id": "T549tKSyZJDc"
      },
      "execution_count": null,
      "outputs": []
    },
    {
      "cell_type": "code",
      "source": [
        "### Ready training and testing data for keras model\n",
        "translate_labels = {'correct_mask':0, 'incorrect_mask':1}\n",
        "int_y = []\n",
        "for y_val in y:\n",
        "  int_y.append(translate_labels[y_val])\n",
        "\n",
        "xTrain, xTest, yTrain, yTest = train_test_split(input, int_y, test_size=0.2, random_state=42, stratify=int_y) # stratify by y to keep classes somewhat balanced\n",
        "xTrain, xVal, yTrain, yVal = train_test_split(xTrain, yTrain, test_size=0.2, random_state=42, stratify=yTrain)\n",
        "data_generator = ImageDataGenerator(horizontal_flip=True, rotation_range=30) # Horizontal flip and random rotation for image augmentation\n",
        "data_generator.fit(xTrain)\n",
        "train_generator = data_generator.flow(xTrain, yTrain, batch_size=50)\n",
        "test_generator = data_generator.flow(xTest, yTest, batch_size=1, shuffle=False)\n",
        "val_generator = data_generator.flow(xVal, yVal, batch_size=50)"
      ],
      "metadata": {
        "id": "toCLglt2ZJ2C"
      },
      "execution_count": null,
      "outputs": []
    },
    {
      "cell_type": "code",
      "source": [
        "### Define VGG19 transfer learning network\n",
        "vgg19_network = VGG19(weights='imagenet',include_top=False,input_shape=(40,40,3))\n",
        "\n",
        "for l in vgg19_network.layers:\n",
        "    l.trainable = False\n",
        "\n",
        "model_vgg19 = keras.models.Sequential([               \n",
        "    vgg19_network,\n",
        "    keras.layers.Flatten(),\n",
        "    keras.layers.Dense(units = 100,kernel_regularizer=l2(0.01), activation = 'relu'),\n",
        "    keras.layers.Dropout(.1),\n",
        "    keras.layers.Dense(units = 100,kernel_regularizer=l2(0.01), activation = 'relu'),\n",
        "    keras.layers.Dropout(.1),\n",
        "    keras.layers.Dense(units = 100,kernel_regularizer=l2(0.01), activation = 'relu'),\n",
        "    keras.layers.Dropout(.1),\n",
        "    keras.layers.Dense(units = 1,kernel_regularizer=l2(0.01), activation = 'sigmoid')\n",
        "])\n",
        "\n",
        "model_vgg19.compile(optimizer=\"adam\",loss=\"binary_crossentropy\",metrics =\"accuracy\")\n",
        "# Train model\n",
        "history_VGG19 = model_vgg19.fit(train_generator, steps_per_epoch=len(train_generator), epochs=10, validation_data=val_generator)"
      ],
      "metadata": {
        "colab": {
          "base_uri": "https://localhost:8080/"
        },
        "id": "QDAkDT5HZNIH",
        "outputId": "e0b47fff-f235-4d6b-96a2-4ddadf0f788d"
      },
      "execution_count": null,
      "outputs": [
        {
          "output_type": "stream",
          "name": "stdout",
          "text": [
            "Epoch 1/10\n",
            "14/14 [==============================] - 17s 1s/step - loss: 4.5787 - accuracy: 0.6413 - val_loss: 3.9154 - val_accuracy: 0.7939\n",
            "Epoch 2/10\n",
            "14/14 [==============================] - 16s 1s/step - loss: 3.9658 - accuracy: 0.7401 - val_loss: 3.8626 - val_accuracy: 0.7455\n",
            "Epoch 3/10\n",
            "14/14 [==============================] - 16s 1s/step - loss: 3.6002 - accuracy: 0.7766 - val_loss: 3.4503 - val_accuracy: 0.7879\n",
            "Epoch 4/10\n",
            "14/14 [==============================] - 16s 1s/step - loss: 3.3591 - accuracy: 0.8009 - val_loss: 3.2387 - val_accuracy: 0.8303\n",
            "Epoch 5/10\n",
            "14/14 [==============================] - 16s 1s/step - loss: 3.0838 - accuracy: 0.8465 - val_loss: 3.0476 - val_accuracy: 0.8364\n",
            "Epoch 6/10\n",
            "14/14 [==============================] - 16s 1s/step - loss: 2.9959 - accuracy: 0.8359 - val_loss: 2.9019 - val_accuracy: 0.8182\n",
            "Epoch 7/10\n",
            "14/14 [==============================] - 16s 1s/step - loss: 2.8010 - accuracy: 0.8556 - val_loss: 2.7370 - val_accuracy: 0.8606\n",
            "Epoch 8/10\n",
            "14/14 [==============================] - 16s 1s/step - loss: 2.6146 - accuracy: 0.8769 - val_loss: 2.6862 - val_accuracy: 0.8121\n",
            "Epoch 9/10\n",
            "14/14 [==============================] - 16s 1s/step - loss: 2.4903 - accuracy: 0.8906 - val_loss: 2.4967 - val_accuracy: 0.8727\n",
            "Epoch 10/10\n",
            "14/14 [==============================] - 16s 1s/step - loss: 2.3868 - accuracy: 0.8875 - val_loss: 2.4792 - val_accuracy: 0.8121\n"
          ]
        }
      ]
    },
    {
      "cell_type": "code",
      "source": [
        "### Create ROC curve\n",
        "yPred = model_vgg19.predict(test_generator)\n",
        "\n",
        "fpr, tpr, thresholds = roc_curve(yTest, yPred)\n",
        "best_idx = np.argmax(np.sqrt(tpr * (1-fpr)))\n",
        "plt.plot(fpr, tpr)\n",
        "plt.plot(fpr[best_idx], tpr[best_idx], marker='o', color='red')\n",
        "plt.title('ROC curve')\n",
        "plt.xlabel('False Positive Rate')\n",
        "plt.ylabel('True Positive Rate')\n",
        "\n",
        "print('AUC score = ', roc_auc_score(yTest, yPred))\n",
        "optimal_threshold = thresholds[best_idx]\n",
        "print('Threshold maximizing tpr * tnr = ', optimal_threshold)\n",
        "print('Corresponding (FPR,TPR) = ',(fpr[best_idx], tpr[best_idx]))"
      ],
      "metadata": {
        "colab": {
          "base_uri": "https://localhost:8080/",
          "height": 348
        },
        "id": "ipaIDbyzZXJG",
        "outputId": "084ac036-6901-43e0-d886-0c06bf2043c7"
      },
      "execution_count": null,
      "outputs": [
        {
          "output_type": "stream",
          "name": "stdout",
          "text": [
            "AUC score =  0.9232811759127548\n",
            "Threshold maximizing tpr * tnr =  0.641482\n",
            "Corresponding (FPR,TPR) =  (0.06306306306306306, 0.8105263157894737)\n"
          ]
        },
        {
          "output_type": "display_data",
          "data": {
            "image/png": "[encoded data removed]",
            "text/plain": [
              "<Figure size 432x288 with 1 Axes>"
            ]
          },
          "metadata": {
            "needs_background": "light"
          }
        }
      ]
    },
    {
      "cell_type": "code",
      "source": [
        "# Test model and print confusion matrix under optimal threshold\n",
        "threshold = optimal_threshold\n",
        "yTestPred = (model_vgg19.predict(test_generator) >= threshold).astype('int')\n",
        "test_matrix = confusion_matrix(yTest, yTestPred)\n",
        "\n",
        "seaborn.heatmap(test_matrix/np.sum(test_matrix), annot=True, \n",
        "            fmt='.2%')"
      ],
      "metadata": {
        "colab": {
          "base_uri": "https://localhost:8080/",
          "height": 283
        },
        "id": "tM6tuGzHZciC",
        "outputId": "50ec7367-3b67-4439-d0f9-0dfbbba44d2c"
      },
      "execution_count": null,
      "outputs": [
        {
          "output_type": "execute_result",
          "data": {
            "text/plain": [
              "<matplotlib.axes._subplots.AxesSubplot at 0x7f51e2069310>"
            ]
          },
          "metadata": {},
          "execution_count": 267
        },
        {
          "output_type": "display_data",
          "data": {
            "image/png": "[encoded data removed]",
            "text/plain": [
              "<Figure size 432x288 with 2 Axes>"
            ]
          },
          "metadata": {
            "needs_background": "light"
          }
        }
      ]
    },
    {
      "cell_type": "code",
      "source": [
        "tn, fp, fn, tp = test_matrix.ravel()\n",
        "print('Accuracy = ', (tp+tn)/(tp+tn+fp+fn))\n",
        "print('Precision = ', (tp)/(tp+fp))\n",
        "print('Recall = ', (tp)/(tp+fn))"
      ],
      "metadata": {
        "colab": {
          "base_uri": "https://localhost:8080/"
        },
        "id": "3ubO-XEdZhMj",
        "outputId": "09806a99-02ed-4a37-9540-5747829bdcd4"
      },
      "execution_count": null,
      "outputs": [
        {
          "output_type": "stream",
          "name": "stdout",
          "text": [
            "Accuracy =  0.8446601941747572\n",
            "Precision =  0.8620689655172413\n",
            "Recall =  0.7894736842105263\n"
          ]
        }
      ]
    },
    {
      "cell_type": "code",
      "source": [
        "# Test model and print confusion matrix under 0.5 threshold\n",
        "threshold = 0.5\n",
        "yTestPred = (model_vgg19.predict(xTest) >= threshold).astype('int')\n",
        "test_matrix = confusion_matrix(yTest, yTestPred)\n",
        "\n",
        "seaborn.heatmap(test_matrix/np.sum(test_matrix), annot=True, \n",
        "            fmt='.2%')"
      ],
      "metadata": {
        "id": "sygd_T0HZkId"
      },
      "execution_count": null,
      "outputs": []
    },
    {
      "cell_type": "code",
      "source": [
        "tn, fp, fn, tp = test_matrix.ravel()\n",
        "print('Accuracy = ', (tp+tn)/(tp+tn+fp+fn))\n",
        "print('Precision = ', (tp)/(tp+fp))\n",
        "print('Recall = ', (tp)/(tp+fn))"
      ],
      "metadata": {
        "id": "sGrBz5wyZqB6"
      },
      "execution_count": null,
      "outputs": []
    },
    {
      "cell_type": "code",
      "source": [
        "### Plot training and validation accuracy and loss\n",
        "plt.plot(history_VGG19.history['accuracy'], label='train')\n",
        "plt.plot(history_VGG19.history['val_accuracy'], label ='validation')\n",
        "plt.title('Training and Validation Accuracy')\n",
        "plt.xlabel('Training epochs')\n",
        "plt.ylabel('Accuracy')\n",
        "plt.legend(loc='lower right')\n",
        "plt.figure()\n",
        "plt.plot(history_VGG19.history['loss'], label ='train')\n",
        "plt.plot(history_VGG19.history['val_loss'], label='validation')\n",
        "plt.legend(loc='upper right')\n",
        "plt.title('Training and Validation Loss')\n",
        "plt.xlabel('Training epochs')\n",
        "plt.ylabel('Loss')"
      ],
      "metadata": {
        "colab": {
          "base_uri": "https://localhost:8080/",
          "height": 591
        },
        "id": "Tb3Fw4qKZq0L",
        "outputId": "d42c609b-407b-4170-a97d-b3fa256d8074"
      },
      "execution_count": null,
      "outputs": [
        {
          "output_type": "execute_result",
          "data": {
            "text/plain": [
              "Text(0, 0.5, 'Loss')"
            ]
          },
          "metadata": {},
          "execution_count": 269
        },
        {
          "output_type": "display_data",
          "data": {
            "image/png": "[encoded data removed]",
            "text/plain": [
              "<Figure size 432x288 with 1 Axes>"
            ]
          },
          "metadata": {
            "needs_background": "light"
          }
        },
        {
          "output_type": "display_data",
          "data": {
            "image/png": "[encoded data removed]",
            "text/plain": [
              "<Figure size 432x288 with 1 Axes>"
            ]
          },
          "metadata": {
            "needs_background": "light"
          }
        }
      ]
    },
    {
      "cell_type": "code",
      "source": [
        "### Retrain last 2 Convolutional layers in VGG19\n",
        "retrain_layers = ['block5_conv4', 'block5_conv3'] # Final 2 conv layers in VGG19\n",
        "\n",
        "vgg19_network = VGG19(weights='imagenet',include_top=False,input_shape=(40,40,3))\n",
        "\n",
        "for l in vgg19_network.layers:\n",
        "  l.trainable = False\n",
        "\n",
        "for l in retrain_layers:\n",
        "  vgg19_network.get_layer(l).trainable=True\n",
        "\n",
        "model_vgg19 = keras.models.Sequential([               \n",
        "    vgg19_network,\n",
        "    keras.layers.Flatten(),\n",
        "    keras.layers.Dense(units = 100,kernel_regularizer=l2(0.01), activation = 'relu'),\n",
        "    keras.layers.Dropout(.1),\n",
        "    keras.layers.Dense(units = 100,kernel_regularizer=l2(0.01), activation = 'relu'),\n",
        "    keras.layers.Dropout(.1),\n",
        "    keras.layers.Dense(units = 100,kernel_regularizer=l2(0.01), activation = 'relu'),\n",
        "    keras.layers.Dropout(.1),\n",
        "    keras.layers.Dense(units = 1,kernel_regularizer=l2(0.01), activation = 'sigmoid')\n",
        "])\n",
        "\n",
        "model_vgg19.compile(optimizer=\"adam\",loss=\"binary_crossentropy\",metrics =\"accuracy\")\n",
        "# Train model\n",
        "history_VGG19 = model_vgg19.fit(train_generator, steps_per_epoch=len(train_generator), epochs=10, validation_data=val_generator)"
      ],
      "metadata": {
        "colab": {
          "base_uri": "https://localhost:8080/"
        },
        "id": "pzMEGIrNg6Ai",
        "outputId": "c5065515-ded6-4eed-fe22-6125fa7bf583"
      },
      "execution_count": null,
      "outputs": [
        {
          "output_type": "stream",
          "name": "stdout",
          "text": [
            "Epoch 1/10\n",
            "14/14 [==============================] - 28s 2s/step - loss: 5.3458 - accuracy: 0.6717 - val_loss: 4.6545 - val_accuracy: 0.8242\n",
            "Epoch 2/10\n",
            "14/14 [==============================] - 27s 2s/step - loss: 4.0757 - accuracy: 0.8040 - val_loss: 3.5274 - val_accuracy: 0.8727\n",
            "Epoch 3/10\n",
            "14/14 [==============================] - 26s 2s/step - loss: 3.2651 - accuracy: 0.8921 - val_loss: 3.2183 - val_accuracy: 0.8545\n",
            "Epoch 4/10\n",
            "14/14 [==============================] - 27s 2s/step - loss: 2.9319 - accuracy: 0.8739 - val_loss: 2.9511 - val_accuracy: 0.8485\n",
            "Epoch 5/10\n",
            "14/14 [==============================] - 26s 2s/step - loss: 2.6935 - accuracy: 0.8906 - val_loss: 2.5917 - val_accuracy: 0.8727\n",
            "Epoch 6/10\n",
            "14/14 [==============================] - 26s 2s/step - loss: 2.4888 - accuracy: 0.9103 - val_loss: 2.5545 - val_accuracy: 0.8606\n",
            "Epoch 7/10\n",
            "14/14 [==============================] - 26s 2s/step - loss: 2.3198 - accuracy: 0.9255 - val_loss: 2.4138 - val_accuracy: 0.8848\n",
            "Epoch 8/10\n",
            "14/14 [==============================] - 26s 2s/step - loss: 2.2459 - accuracy: 0.9225 - val_loss: 2.4198 - val_accuracy: 0.8485\n",
            "Epoch 9/10\n",
            "14/14 [==============================] - 26s 2s/step - loss: 2.1352 - accuracy: 0.9240 - val_loss: 2.1078 - val_accuracy: 0.9030\n",
            "Epoch 10/10\n",
            "14/14 [==============================] - 26s 2s/step - loss: 1.9951 - accuracy: 0.9331 - val_loss: 2.0481 - val_accuracy: 0.8970\n"
          ]
        }
      ]
    },
    {
      "cell_type": "code",
      "source": [
        "### Create ROC curve\n",
        "yPred = model_vgg19.predict(test_generator)\n",
        "\n",
        "fpr, tpr, thresholds = roc_curve(yTest, yPred)\n",
        "best_idx = np.argmax(np.sqrt(tpr * (1-fpr)))\n",
        "plt.plot(fpr, tpr)\n",
        "plt.plot(fpr[best_idx], tpr[best_idx], marker='o', color='red')\n",
        "plt.title('ROC curve')\n",
        "plt.xlabel('False Positive Rate')\n",
        "plt.ylabel('True Positive Rate')\n",
        "\n",
        "print('AUC score = ', roc_auc_score(yTest, yPred))\n",
        "optimal_threshold = thresholds[best_idx]\n",
        "print('Threshold maximizing tpr * tnr = ', optimal_threshold)\n",
        "print('Corresponding (FPR,TPR) = ',(fpr[best_idx], tpr[best_idx]))"
      ],
      "metadata": {
        "colab": {
          "base_uri": "https://localhost:8080/",
          "height": 348
        },
        "id": "j3Dfas2DkzLw",
        "outputId": "076afd1b-946b-4756-bbd4-ff65743ea1fb"
      },
      "execution_count": null,
      "outputs": [
        {
          "output_type": "stream",
          "name": "stdout",
          "text": [
            "AUC score =  0.9624466571834993\n",
            "Threshold maximizing tpr * tnr =  0.575071\n",
            "Corresponding (FPR,TPR) =  (0.07207207207207207, 0.8842105263157894)\n"
          ]
        },
        {
          "output_type": "display_data",
          "data": {
            "image/png": "[encoded data removed]",
            "text/plain": [
              "<Figure size 432x288 with 1 Axes>"
            ]
          },
          "metadata": {
            "needs_background": "light"
          }
        }
      ]
    },
    {
      "cell_type": "code",
      "source": [
        "# Test model and print confusion matrix under optimal threshold\n",
        "threshold = optimal_threshold\n",
        "yTestPred = (model_vgg19.predict(test_generator) >= threshold).astype('int')\n",
        "test_matrix = confusion_matrix(yTest, yTestPred)\n",
        "\n",
        "seaborn.heatmap(test_matrix/np.sum(test_matrix), annot=True, \n",
        "            fmt='.2%')"
      ],
      "metadata": {
        "colab": {
          "base_uri": "https://localhost:8080/",
          "height": 285
        },
        "id": "JQtOBxXzrga_",
        "outputId": "e9cd7de1-9d94-4cca-da50-82259e51aac0"
      },
      "execution_count": null,
      "outputs": [
        {
          "output_type": "execute_result",
          "data": {
            "text/plain": [
              "<matplotlib.axes._subplots.AxesSubplot at 0x7f51cc9a8850>"
            ]
          },
          "metadata": {},
          "execution_count": 273
        },
        {
          "output_type": "display_data",
          "data": {
            "image/png": "[encoded data removed]",
            "text/plain": [
              "<Figure size 432x288 with 2 Axes>"
            ]
          },
          "metadata": {
            "needs_background": "light"
          }
        }
      ]
    },
    {
      "cell_type": "code",
      "source": [
        "tn, fp, fn, tp = test_matrix.ravel()\n",
        "print('Accuracy = ', (tp+tn)/(tp+tn+fp+fn))\n",
        "print('Precision = ', (tp)/(tp+fp))\n",
        "print('Recall = ', (tp)/(tp+fn))"
      ],
      "metadata": {
        "colab": {
          "base_uri": "https://localhost:8080/"
        },
        "id": "ylKinas3rkI2",
        "outputId": "6e16f164-5292-48d2-edf9-95c63f81282c"
      },
      "execution_count": null,
      "outputs": [
        {
          "output_type": "stream",
          "name": "stdout",
          "text": [
            "Accuracy =  0.9029126213592233\n",
            "Precision =  0.9213483146067416\n",
            "Recall =  0.8631578947368421\n"
          ]
        }
      ]
    },
    {
      "cell_type": "code",
      "source": [
        "### Plot training and validation accuracy and loss\n",
        "plt.plot(history_VGG19.history['accuracy'], label='train')\n",
        "plt.plot(history_VGG19.history['val_accuracy'], label ='validation')\n",
        "plt.title('Training and Validation Accuracy')\n",
        "plt.xlabel('Training epochs')\n",
        "plt.ylabel('Accuracy')\n",
        "plt.legend(loc='lower right')\n",
        "plt.figure()\n",
        "plt.plot(history_VGG19.history['loss'], label ='train')\n",
        "plt.plot(history_VGG19.history['val_loss'], label='validation')\n",
        "plt.legend(loc='upper right')\n",
        "plt.title('Training and Validation Loss')\n",
        "plt.xlabel('Training epochs')\n",
        "plt.ylabel('Loss')"
      ],
      "metadata": {
        "colab": {
          "base_uri": "https://localhost:8080/",
          "height": 591
        },
        "id": "DHnZiNZUriCv",
        "outputId": "d2191a72-2085-488b-ffaf-f18efbc4af34"
      },
      "execution_count": null,
      "outputs": [
        {
          "output_type": "execute_result",
          "data": {
            "text/plain": [
              "Text(0, 0.5, 'Loss')"
            ]
          },
          "metadata": {},
          "execution_count": 275
        },
        {
          "output_type": "display_data",
          "data": {
            "image/png": "[encoded data removed]",
            "text/plain": [
              "<Figure size 432x288 with 1 Axes>"
            ]
          },
          "metadata": {
            "needs_background": "light"
          }
        },
        {
          "output_type": "display_data",
          "data": {
            "image/png": "[encoded data removed]",
            "text/plain": [
              "<Figure size 432x288 with 1 Axes>"
            ]
          },
          "metadata": {
            "needs_background": "light"
          }
        }
      ]
    },
    {
      "cell_type": "markdown",
      "source": [
        "# Random Forest Model"
      ],
      "metadata": {
        "id": "UOwPgiHVVJgE"
      }
    },
    {
      "cell_type": "code",
      "source": [
        "### Extract features using VGG19\n",
        "vgg19_network = VGG19(weights='imagenet',include_top=False,input_shape=(40,40,3))\n",
        "xTrainRF = vgg19_network.predict(xTrain)\n",
        "xTestRF = vgg19_network.predict(xTest)"
      ],
      "metadata": {
        "id": "bdZHHxTKVLMN"
      },
      "execution_count": null,
      "outputs": []
    },
    {
      "cell_type": "code",
      "source": [
        "### Reshape data to be fitted by a Random Forest Classifier\n",
        "xTrainRF = xTrainRF.reshape(xTrainRF.shape[0],xTrainRF.shape[-1])\n",
        "xTestRF = xTestRF.reshape(xTestRF.shape[0],xTestRF.shape[-1])"
      ],
      "metadata": {
        "id": "BPYBOsM2W_iV"
      },
      "execution_count": null,
      "outputs": []
    },
    {
      "cell_type": "code",
      "source": [
        "from sklearn.model_selection import cross_val_score\n",
        "\n",
        "for max_depth in [1,2,3,4,5,6,7,8,9,10,11,12,13]:\n",
        " print('------------------------------------------------------------------')\n",
        " print('max_depth =',max_depth)\n",
        " rf = RandomForestClassifier(max_depth=max_depth)\n",
        " accuracy = np.mean(cross_val_score(rf, xTrainRF, yTrain, cv=5, scoring='accuracy'))\n",
        " precision = np.mean(cross_val_score(rf, xTrainRF, yTrain, cv=5, scoring='precision'))\n",
        " recall = np.mean(cross_val_score(rf, xTrainRF, yTrain, cv=5, scoring='recall'))\n",
        " print('Train accuracy = ', round(accuracy, 3))\n",
        " print('Precision on train data = ', round(precision, 3))\n",
        " print('Recall on train data = ', round(recall, 3))"
      ],
      "metadata": {
        "colab": {
          "base_uri": "https://localhost:8080/"
        },
        "id": "37dkRQ4MWj13",
        "outputId": "328e8682-56ec-49ee-a3c6-80b81bd9ca80"
      },
      "execution_count": null,
      "outputs": [
        {
          "output_type": "stream",
          "name": "stdout",
          "text": [
            "------------------------------------------------------------------\n",
            "max_depth = 1\n",
            "Train accuracy =  0.708\n",
            "Precision on train data =  0.904\n",
            "Recall on train data =  0.414\n",
            "------------------------------------------------------------------\n",
            "max_depth = 2\n",
            "Train accuracy =  0.77\n",
            "Precision on train data =  0.89\n",
            "Recall on train data =  0.593\n",
            "------------------------------------------------------------------\n",
            "max_depth = 3\n",
            "Train accuracy =  0.812\n",
            "Precision on train data =  0.868\n",
            "Recall on train data =  0.675\n",
            "------------------------------------------------------------------\n",
            "max_depth = 4\n",
            "Train accuracy =  0.825\n",
            "Precision on train data =  0.847\n",
            "Recall on train data =  0.719\n",
            "------------------------------------------------------------------\n",
            "max_depth = 5\n",
            "Train accuracy =  0.822\n",
            "Precision on train data =  0.867\n",
            "Recall on train data =  0.732\n",
            "------------------------------------------------------------------\n",
            "max_depth = 6\n",
            "Train accuracy =  0.836\n",
            "Precision on train data =  0.864\n",
            "Recall on train data =  0.732\n",
            "------------------------------------------------------------------\n",
            "max_depth = 7\n",
            "Train accuracy =  0.846\n",
            "Precision on train data =  0.881\n",
            "Recall on train data =  0.732\n",
            "------------------------------------------------------------------\n",
            "max_depth = 8\n",
            "Train accuracy =  0.833\n",
            "Precision on train data =  0.863\n",
            "Recall on train data =  0.768\n",
            "------------------------------------------------------------------\n",
            "max_depth = 9\n",
            "Train accuracy =  0.836\n",
            "Precision on train data =  0.864\n",
            "Recall on train data =  0.745\n",
            "------------------------------------------------------------------\n",
            "max_depth = 10\n",
            "Train accuracy =  0.837\n",
            "Precision on train data =  0.865\n",
            "Recall on train data =  0.755\n",
            "------------------------------------------------------------------\n",
            "max_depth = 11\n",
            "Train accuracy =  0.842\n",
            "Precision on train data =  0.877\n",
            "Recall on train data =  0.758\n",
            "------------------------------------------------------------------\n",
            "max_depth = 12\n",
            "Train accuracy =  0.833\n",
            "Precision on train data =  0.862\n",
            "Recall on train data =  0.772\n",
            "------------------------------------------------------------------\n",
            "max_depth = 13\n",
            "Train accuracy =  0.836\n",
            "Precision on train data =  0.854\n",
            "Recall on train data =  0.778\n"
          ]
        }
      ]
    },
    {
      "cell_type": "code",
      "source": [
        "### Selected RF classifier with max_depth = 7\n",
        "rf = RandomForestClassifier(max_depth=7).fit(xTrainRF, yTrain)\n",
        "yTestPred = rf.predict(xTestRF)\n",
        "test_matrix = confusion_matrix(yTest, yTestPred)\n",
        "tn, fp, fn, tp = test_matrix.ravel()\n",
        "print('Accuracy = ', (tp+tn)/(tp+tn+fp+fn))\n",
        "print('Precision = ', (tp)/(tp+fp))\n",
        "print('Recall = ', (tp)/(tp+fn))\n",
        "\n",
        "seaborn.heatmap(test_matrix/np.sum(test_matrix), annot=True, \n",
        "            fmt='.2%')"
      ],
      "metadata": {
        "colab": {
          "base_uri": "https://localhost:8080/",
          "height": 338
        },
        "id": "o62GW2Q0YQfq",
        "outputId": "ba21ce1a-2b0c-4617-c545-4a3be64adcb3"
      },
      "execution_count": null,
      "outputs": [
        {
          "output_type": "stream",
          "name": "stdout",
          "text": [
            "Accuracy =  0.8495145631067961\n",
            "Precision =  0.9102564102564102\n",
            "Recall =  0.7473684210526316\n"
          ]
        },
        {
          "output_type": "execute_result",
          "data": {
            "text/plain": [
              "<matplotlib.axes._subplots.AxesSubplot at 0x7f51cbf5ed90>"
            ]
          },
          "metadata": {},
          "execution_count": 279
        },
        {
          "output_type": "display_data",
          "data": {
            "image/png": "[encoded data removed]",
            "text/plain": [
              "<Figure size 432x288 with 2 Axes>"
            ]
          },
          "metadata": {
            "needs_background": "light"
          }
        }
      ]
    }
  ]
}